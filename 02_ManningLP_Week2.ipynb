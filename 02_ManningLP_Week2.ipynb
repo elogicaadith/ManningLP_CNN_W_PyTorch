{
  "nbformat": 4,
  "nbformat_minor": 0,
  "metadata": {
    "colab": {
      "name": "02 - ManningLP_Week2.ipynb",
      "provenance": [],
      "collapsed_sections": [],
      "toc_visible": true
    },
    "kernelspec": {
      "name": "python3",
      "display_name": "Python 3"
    }
  },
  "cells": [
    {
      "cell_type": "code",
      "metadata": {
        "id": "f4nFoXq8fQJq",
        "colab_type": "code",
        "colab": {}
      },
      "source": [
        "# Initial Setup\n",
        "\n",
        "import os\n",
        "import nibabel as nib\n",
        "import matplotlib.pyplot as plt\n",
        "%matplotlib inline\n",
        "from random import seed\n",
        "from random import randint\n",
        "os.chdir(\"/content/drive/My Drive/Colab Notebooks/Datasets/hh/t1\")"
      ],
      "execution_count": 0,
      "outputs": []
    },
    {
      "cell_type": "code",
      "metadata": {
        "id": "npsMcUYBu5kY",
        "colab_type": "code",
        "colab": {}
      },
      "source": [
        "def crop_tuple_of_images(input_tuple, random_seed):\n",
        "  seed(random_seed)\n",
        "  image_number = randint(0, 240)\n",
        "  start_pixel_y = randint(0, 180)\n",
        "  sum_up_y = randint(11, 31)\n",
        "  end_pixel_y = start_pixel_y + sum_up_y\n",
        "  start_pixel_x = randint(0, 240)\n",
        "  sum_up_x = randint(11, 31)\n",
        "  end_pixel_x = start_pixel_x + sum_up_x\n",
        "\n",
        "  image_count = 0\n",
        "  processed_list = list()\n",
        "\n",
        "  for image in input_tuple:\n",
        "    processed_image = image[image_number, start_pixel_y:end_pixel_y, start_pixel_x:end_pixel_x]\n",
        "    processed_list.append(processed_image) \n",
        "    image_count = image_count + 1\n",
        "\n",
        "  pixel_specs = [image_number, start_pixel_y, end_pixel_y, sum_up_y, start_pixel_x, end_pixel_x, sum_up_x]\n",
        "  output_tuple = tuple(processed_list)\n",
        "\n",
        "  message_string = \"Processed -> \" + str(image_count) + \"images....\"\n",
        "  print(message_string)\n",
        "\n",
        "  return (output_tuple, pixel_specs)"
      ],
      "execution_count": 0,
      "outputs": []
    },
    {
      "cell_type": "code",
      "metadata": {
        "id": "-Gun5MS_y1C0",
        "colab_type": "code",
        "colab": {}
      },
      "source": [
        "os.chdir(\"/content/drive/My Drive/Colab Notebooks/Datasets/hh/t1\")\n",
        "images_set_1 = nib.load(\"IXI012-HH-1211-T1_fcm.nii.gz\")\n",
        "images_set_1 = images_set_1.get_fdata()\n",
        "os.chdir(\"/content/drive/My Drive/Colab Notebooks/Datasets/hh/t2\")\n",
        "images_set_2 = nib.load(\"IXI012-HH-1211-T2_reg_fcm.nii.gz\")\n",
        "images_set_2 = images_set_2.get_fdata()\n",
        "\n",
        "input_tuple = (images_set_1, images_set_2)"
      ],
      "execution_count": 0,
      "outputs": []
    },
    {
      "cell_type": "code",
      "metadata": {
        "id": "4HbnHSXe0Lnd",
        "colab_type": "code",
        "outputId": "fceb285d-2e0d-4649-f6ff-a37cc682b671",
        "colab": {
          "base_uri": "https://localhost:8080/",
          "height": 35
        }
      },
      "source": [
        "returned_tuple, random_numbers = crop_tuple_of_images(input_tuple, random_seed = 11)"
      ],
      "execution_count": 28,
      "outputs": [
        {
          "output_type": "stream",
          "text": [
            "Processed -> 2images....\n"
          ],
          "name": "stdout"
        }
      ]
    },
    {
      "cell_type": "code",
      "metadata": {
        "id": "8q044_kjOHnD",
        "colab_type": "code",
        "colab": {
          "base_uri": "https://localhost:8080/",
          "height": 283
        },
        "outputId": "546a1e0d-ad4a-4cf2-a73b-a623a5e4b730"
      },
      "source": [
        "plt.imshow(returned_tuple[0])"
      ],
      "execution_count": 31,
      "outputs": [
        {
          "output_type": "execute_result",
          "data": {
            "text/plain": [
              "<matplotlib.image.AxesImage at 0x7ff44b940a90>"
            ]
          },
          "metadata": {
            "tags": []
          },
          "execution_count": 31
        },
        {
          "output_type": "display_data",
          "data": {
            "image/png": "[encoded data removed]",
            "text/plain": [
              "<Figure size 432x288 with 1 Axes>"
            ]
          },
          "metadata": {
            "tags": []
          }
        }
      ]
    },
    {
      "cell_type": "code",
      "metadata": {
        "id": "KmC132uuPnJp",
        "colab_type": "code",
        "colab": {
          "base_uri": "https://localhost:8080/",
          "height": 283
        },
        "outputId": "1f510d37-806c-438e-cc20-ef4a0eb25f4b"
      },
      "source": [
        "plt.imshow(returned_tuple[1])"
      ],
      "execution_count": 30,
      "outputs": [
        {
          "output_type": "execute_result",
          "data": {
            "text/plain": [
              "<matplotlib.image.AxesImage at 0x7ff44b9eb9b0>"
            ]
          },
          "metadata": {
            "tags": []
          },
          "execution_count": 30
        },
        {
          "output_type": "display_data",
          "data": {
            "image/png": "[encoded data removed]",
            "text/plain": [
              "<Figure size 432x288 with 1 Axes>"
            ]
          },
          "metadata": {
            "tags": []
          }
        }
      ]
    },
    {
      "cell_type": "code",
      "metadata": {
        "id": "8G-ieQceRg1I",
        "colab_type": "code",
        "colab": {
          "base_uri": "https://localhost:8080/",
          "height": 35
        },
        "outputId": "f0fe86cd-fb04-42a2-f708-1b5622ab2283"
      },
      "source": [
        "random_numbers"
      ],
      "execution_count": 32,
      "outputs": [
        {
          "output_type": "execute_result",
          "data": {
            "text/plain": [
              "[115, 143, 168, 25, 115, 142, 27]"
            ]
          },
          "metadata": {
            "tags": []
          },
          "execution_count": 32
        }
      ]
    }
  ]
}