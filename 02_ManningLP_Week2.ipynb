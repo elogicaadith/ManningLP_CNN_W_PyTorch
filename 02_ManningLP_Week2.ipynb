{
  "nbformat": 4,
  "nbformat_minor": 0,
  "metadata": {
    "colab": {
      "name": "02 - ManningLP_Week2.ipynb",
      "provenance": [],
      "collapsed_sections": [],
      "toc_visible": true
    },
    "kernelspec": {
      "name": "python3",
      "display_name": "Python 3"
    }
  },
  "cells": [
    {
      "cell_type": "markdown",
      "metadata": {
        "id": "an49WfMydCq3",
        "colab_type": "text"
      },
      "source": [
        "### **Part - I**"
      ]
    },
    {
      "cell_type": "code",
      "metadata": {
        "id": "f4nFoXq8fQJq",
        "colab_type": "code",
        "colab": {}
      },
      "source": [
        "# Initial Setup\n",
        "\n",
        "import os\n",
        "import nibabel as nib\n",
        "import matplotlib.pyplot as plt\n",
        "%matplotlib inline\n",
        "from random import seed\n",
        "from random import randint\n",
        "os.chdir(\"/content/drive/My Drive/Colab Notebooks/Datasets/hh/t1\")"
      ],
      "execution_count": 0,
      "outputs": []
    },
    {
      "cell_type": "code",
      "metadata": {
        "id": "npsMcUYBu5kY",
        "colab_type": "code",
        "colab": {}
      },
      "source": [
        "# Function to crop images --->\n",
        "\n",
        "def crop_tuple_of_images(input_tuple, random_seed):\n",
        "  seed(random_seed)\n",
        "  image_number = randint(0, 240)\n",
        "  start_pixel_y = randint(0, 180)\n",
        "  sum_up_y = randint(11, 31)\n",
        "  end_pixel_y = start_pixel_y + sum_up_y\n",
        "  start_pixel_x = randint(0, 240)\n",
        "  sum_up_x = randint(11, 31)\n",
        "  end_pixel_x = start_pixel_x + sum_up_x\n",
        "\n",
        "  image_count = 0\n",
        "  processed_list = list()\n",
        "\n",
        "  for image in input_tuple:\n",
        "    processed_image = image[image_number, start_pixel_y:end_pixel_y, start_pixel_x:end_pixel_x]\n",
        "    processed_list.append(processed_image) \n",
        "    image_count = image_count + 1\n",
        "\n",
        "  pixel_specs = [image_number, start_pixel_y, end_pixel_y, sum_up_y, start_pixel_x, end_pixel_x, sum_up_x]\n",
        "  output_tuple = tuple(processed_list)\n",
        "\n",
        "  message_string = \"Processed -> \" + str(image_count) + \" images....\"\n",
        "  print(message_string)\n",
        "\n",
        "  return (output_tuple, pixel_specs)"
      ],
      "execution_count": 0,
      "outputs": []
    },
    {
      "cell_type": "code",
      "metadata": {
        "id": "-Gun5MS_y1C0",
        "colab_type": "code",
        "colab": {}
      },
      "source": [
        "os.chdir(\"/content/drive/My Drive/Colab Notebooks/Datasets/hh/t1\")\n",
        "images_set_1 = nib.load(\"IXI012-HH-1211-T1_fcm.nii.gz\")\n",
        "images_set_1 = images_set_1.get_fdata()\n",
        "os.chdir(\"/content/drive/My Drive/Colab Notebooks/Datasets/hh/t2\")\n",
        "images_set_2 = nib.load(\"IXI012-HH-1211-T2_reg_fcm.nii.gz\")\n",
        "images_set_2 = images_set_2.get_fdata()\n",
        "\n",
        "input_tuple = (images_set_1, images_set_2)"
      ],
      "execution_count": 0,
      "outputs": []
    },
    {
      "cell_type": "code",
      "metadata": {
        "id": "4HbnHSXe0Lnd",
        "colab_type": "code",
        "outputId": "5385aaf3-5d84-4ea8-d95f-d521f6564a9d",
        "colab": {
          "base_uri": "https://localhost:8080/",
          "height": 36
        }
      },
      "source": [
        "returned_tuple, random_numbers = crop_tuple_of_images(input_tuple, random_seed = 11)"
      ],
      "execution_count": 5,
      "outputs": [
        {
          "output_type": "stream",
          "text": [
            "Processed -> 2 images....\n"
          ],
          "name": "stdout"
        }
      ]
    },
    {
      "cell_type": "code",
      "metadata": {
        "id": "8q044_kjOHnD",
        "colab_type": "code",
        "outputId": "dd554d7b-7b4a-4337-b3f7-01b6024429b7",
        "colab": {
          "base_uri": "https://localhost:8080/",
          "height": 284
        }
      },
      "source": [
        "plt.imshow(returned_tuple[0])"
      ],
      "execution_count": 6,
      "outputs": [
        {
          "output_type": "execute_result",
          "data": {
            "text/plain": [
              "<matplotlib.image.AxesImage at 0x7f33856a77b8>"
            ]
          },
          "metadata": {
            "tags": []
          },
          "execution_count": 6
        },
        {
          "output_type": "display_data",
          "data": {
            "image/png": "[encoded data removed]",
            "text/plain": [
              "<Figure size 432x288 with 1 Axes>"
            ]
          },
          "metadata": {
            "tags": []
          }
        }
      ]
    },
    {
      "cell_type": "code",
      "metadata": {
        "id": "KmC132uuPnJp",
        "colab_type": "code",
        "outputId": "40177338-48ff-4545-9416-d5fb0a3c94ce",
        "colab": {
          "base_uri": "https://localhost:8080/",
          "height": 284
        }
      },
      "source": [
        "plt.imshow(returned_tuple[1])"
      ],
      "execution_count": 7,
      "outputs": [
        {
          "output_type": "execute_result",
          "data": {
            "text/plain": [
              "<matplotlib.image.AxesImage at 0x7f33851ed8d0>"
            ]
          },
          "metadata": {
            "tags": []
          },
          "execution_count": 7
        },
        {
          "output_type": "display_data",
          "data": {
            "image/png": "[encoded data removed]",
            "text/plain": [
              "<Figure size 432x288 with 1 Axes>"
            ]
          },
          "metadata": {
            "tags": []
          }
        }
      ]
    },
    {
      "cell_type": "code",
      "metadata": {
        "id": "8G-ieQceRg1I",
        "colab_type": "code",
        "outputId": "a1065e2b-04e5-4895-e327-7580137ff404",
        "colab": {
          "base_uri": "https://localhost:8080/",
          "height": 36
        }
      },
      "source": [
        "random_numbers"
      ],
      "execution_count": 8,
      "outputs": [
        {
          "output_type": "execute_result",
          "data": {
            "text/plain": [
              "[115, 143, 168, 25, 115, 142, 27]"
            ]
          },
          "metadata": {
            "tags": []
          },
          "execution_count": 8
        }
      ]
    },
    {
      "cell_type": "markdown",
      "metadata": {
        "id": "gA0vxFplc6hc",
        "colab_type": "text"
      },
      "source": [
        "### **Part - II**"
      ]
    },
    {
      "cell_type": "code",
      "metadata": {
        "id": "WRSIpRmfdAec",
        "colab_type": "code",
        "colab": {}
      },
      "source": [
        "# Class for dataset --->\n",
        "\n",
        "class scan_dataset:\n",
        "  def __init__(self, data_path, image_set, image_number, y_start, y_end, x_start, x_end, random_seed):\n",
        "    os.chdir(data_path)\n",
        "    image_set_raw = nib.load(image_set)\n",
        "    self.image_set = image_set_raw.get_fdata()\n",
        "    self.image_number = image_number\n",
        "    self.y_start = y_start\n",
        "    self.y_end = y_end\n",
        "    self.x_start = x_start\n",
        "    self.x_end = x_end\n",
        "    self.random_seed = random_seed\n",
        "\n",
        "  def __len__(self):\n",
        "    return len(self.image_set)\n",
        "\n",
        "  def __getitem__(self):\n",
        "    return(self.image_set[self.image_number, self.y_start:self.y_end, self.x_start:self.x_end])\n",
        "\n",
        "  def random_crop(self):\n",
        "    seed(self.random_seed)\n",
        "    start_pixel_y = randint(0, 180)\n",
        "    sum_up_y = randint(11, 31)\n",
        "    end_pixel_y = start_pixel_y + sum_up_y\n",
        "    start_pixel_x = randint(0, 240)\n",
        "    sum_up_x = randint(11, 31)\n",
        "    end_pixel_x = start_pixel_x + sum_up_x\n",
        "    cropped_image = self.image_set[self.image_number, start_pixel_y:end_pixel_y, start_pixel_x:end_pixel_x]\n",
        "    pixel_specs = [self.image_number, start_pixel_y, end_pixel_y, sum_up_y, start_pixel_x, end_pixel_x, sum_up_x]\n",
        "    return(cropped_image, pixel_specs)"
      ],
      "execution_count": 0,
      "outputs": []
    },
    {
      "cell_type": "code",
      "metadata": {
        "id": "8q2Fs-wHi3Te",
        "colab_type": "code",
        "colab": {}
      },
      "source": [
        "data_path = \"/content/drive/My Drive/Colab Notebooks/Datasets/hh/t1\"\n",
        "image_set = \"IXI012-HH-1211-T1_fcm.nii.gz\"\n",
        "dataset_1 = scan_dataset(data_path= data_path, image_set = image_set, image_number = 7, y_start = 11, y_end = 41, x_start = 11, x_end = 51)"
      ],
      "execution_count": 0,
      "outputs": []
    },
    {
      "cell_type": "code",
      "metadata": {
        "id": "mKyQaNB0jcyU",
        "colab_type": "code",
        "colab": {
          "base_uri": "https://localhost:8080/",
          "height": 36
        },
        "outputId": "b0aa30a6-6a8b-4612-90f6-e2d6cb123948"
      },
      "source": [
        "length_ds_1 = dataset_1.__len__()\n",
        "print(length_ds_1)"
      ],
      "execution_count": 24,
      "outputs": [
        {
          "output_type": "stream",
          "text": [
            "240\n"
          ],
          "name": "stdout"
        }
      ]
    },
    {
      "cell_type": "code",
      "metadata": {
        "id": "kSozTKBJkAOR",
        "colab_type": "code",
        "colab": {
          "base_uri": "https://localhost:8080/",
          "height": 285
        },
        "outputId": "cc595f9b-1140-4937-8001-d0121655e89f"
      },
      "source": [
        "plt.imshow(dataset_1.__getitem__())"
      ],
      "execution_count": 25,
      "outputs": [
        {
          "output_type": "execute_result",
          "data": {
            "text/plain": [
              "<matplotlib.image.AxesImage at 0x7f3384cad198>"
            ]
          },
          "metadata": {
            "tags": []
          },
          "execution_count": 25
        },
        {
          "output_type": "display_data",
          "data": {
            "image/png": "[encoded data removed]",
            "text/plain": [
              "<Figure size 432x288 with 1 Axes>"
            ]
          },
          "metadata": {
            "tags": []
          }
        }
      ]
    },
    {
      "cell_type": "markdown",
      "metadata": {
        "id": "iDwU5sUhnf1C",
        "colab_type": "text"
      },
      "source": [
        "### **Bringing Part I and Part II together**"
      ]
    },
    {
      "cell_type": "code",
      "metadata": {
        "id": "FEuiFPuGmPo0",
        "colab_type": "code",
        "colab": {}
      },
      "source": [
        "sample_list = list()\n",
        "cropped_pics = list()\n",
        "\n",
        "for i in range(1, 11):\n",
        "  image_init = scan_dataset(data_path= data_path, image_set = image_set, image_number = i, y_start = 0, y_end = 240, x_start = 0, x_end = 180, random_seed = 1008)\n",
        "  cropped_img, specs = image_init.random_crop()\n",
        "  cropped_pics.append(cropped_img)\n",
        "\n",
        "cropped_tuple = tuple(cropped_pics)"
      ],
      "execution_count": 0,
      "outputs": []
    },
    {
      "cell_type": "code",
      "metadata": {
        "id": "efMF-CBBqILr",
        "colab_type": "code",
        "colab": {
          "base_uri": "https://localhost:8080/",
          "height": 284
        },
        "outputId": "37059ee8-dc60-4a8e-8078-c641a78642d1"
      },
      "source": [
        "plt.imshow(cropped_tuple[7])"
      ],
      "execution_count": 36,
      "outputs": [
        {
          "output_type": "execute_result",
          "data": {
            "text/plain": [
              "<matplotlib.image.AxesImage at 0x7f33831cb390>"
            ]
          },
          "metadata": {
            "tags": []
          },
          "execution_count": 36
        },
        {
          "output_type": "display_data",
          "data": {
            "image/png": "[encoded data removed]",
            "text/plain": [
              "<Figure size 432x288 with 1 Axes>"
            ]
          },
          "metadata": {
            "tags": []
          }
        }
      ]
    },
    {
      "cell_type": "code",
      "metadata": {
        "id": "mtktx1N9uHsB",
        "colab_type": "code",
        "colab": {}
      },
      "source": [
        "#End"
      ],
      "execution_count": 0,
      "outputs": []
    }
  ]
}